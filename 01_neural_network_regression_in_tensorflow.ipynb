{
  "nbformat": 4,
  "nbformat_minor": 0,
  "metadata": {
    "colab": {
      "name": "01_neural_network_regression_in_tensorflow.ipynb",
      "provenance": [],
      "collapsed_sections": [],
      "authorship_tag": "ABX9TyN/XbdXp1hQ4diB5PDXp230",
      "include_colab_link": true
    },
    "kernelspec": {
      "name": "python3",
      "display_name": "Python 3"
    },
    "language_info": {
      "name": "python"
    }
  },
  "cells": [
    {
      "cell_type": "markdown",
      "metadata": {
        "id": "view-in-github",
        "colab_type": "text"
      },
      "source": [
        "<a href=\"https://colab.research.google.com/github/carlos-edhr/tensorflow-zero-to-mastery/blob/main/01_neural_network_regression_in_tensorflow.ipynb\" target=\"_parent\"><img src=\"https://colab.research.google.com/assets/colab-badge.svg\" alt=\"Open In Colab\"/></a>"
      ]
    },
    {
      "cell_type": "markdown",
      "metadata": {
        "id": "pA50ZGW7Hq1D"
      },
      "source": [
        "# Introduction to Regression with Neural Networks in TensorFlow\n",
        "\n"
      ]
    },
    {
      "cell_type": "code",
      "metadata": {
        "colab": {
          "base_uri": "https://localhost:8080/"
        },
        "id": "jwmsEA7pQBUw",
        "outputId": "99a51b82-19a3-41d1-c834-4c5c18ac740b"
      },
      "source": [
        "# Import TensorFlow\n",
        "import tensorflow as tf\n",
        "print(tf.__version__)"
      ],
      "execution_count": 1,
      "outputs": [
        {
          "output_type": "stream",
          "text": [
            "2.5.0\n"
          ],
          "name": "stdout"
        }
      ]
    },
    {
      "cell_type": "markdown",
      "metadata": {
        "id": "C1OOKBh2QSUv"
      },
      "source": [
        "## Creating data to view and fit"
      ]
    },
    {
      "cell_type": "code",
      "metadata": {
        "colab": {
          "base_uri": "https://localhost:8080/",
          "height": 269
        },
        "id": "Ay9w6WJIQdm3",
        "outputId": "b752d97b-98fc-486d-c508-0e5e1df35290"
      },
      "source": [
        "import numpy as np \n",
        "import matplotlib.pyplot as plt \n",
        "\n",
        "# Create features \n",
        "X = np.array([-7.0, -4.0, -1.0, 2.0, 5.0, 8.0, 11.0, 14.0])\n",
        "\n",
        "# Create labels \n",
        "y = np.array([3.0, 6.0, 9.0, 12.0, 15.0, 18.0, 21.0, 24.0])\n",
        "\n",
        "# Visualize it \n",
        "plt.scatter(X, y);"
      ],
      "execution_count": 2,
      "outputs": [
        {
          "output_type": "display_data",
          "data": {
            "image/png": "[encoded data removed]",
            "text/plain": [
              "<Figure size 432x288 with 1 Axes>"
            ]
          },
          "metadata": {
            "tags": [],
            "needs_background": "light"
          }
        }
      ]
    },
    {
      "cell_type": "markdown",
      "metadata": {
        "id": "6YblT7sIQ-go"
      },
      "source": [
        "## Input and output shapes"
      ]
    },
    {
      "cell_type": "code",
      "metadata": {
        "colab": {
          "base_uri": "https://localhost:8080/"
        },
        "id": "8WQnz-Q_RKVT",
        "outputId": "cca18293-e526-454e-f573-97c49fdc8a17"
      },
      "source": [
        "# Create a demo tensor for our housing price prediction problem\n",
        "house_info = tf.constant([\"bedroom\", \"bathroom\", \"garage\"])\n",
        "house_price = tf.constant([939700])\n",
        "house_info, house_price"
      ],
      "execution_count": 3,
      "outputs": [
        {
          "output_type": "execute_result",
          "data": {
            "text/plain": [
              "(<tf.Tensor: shape=(3,), dtype=string, numpy=array([b'bedroom', b'bathroom', b'garage'], dtype=object)>,\n",
              " <tf.Tensor: shape=(1,), dtype=int32, numpy=array([939700], dtype=int32)>)"
            ]
          },
          "metadata": {
            "tags": []
          },
          "execution_count": 3
        }
      ]
    },
    {
      "cell_type": "code",
      "metadata": {
        "colab": {
          "base_uri": "https://localhost:8080/"
        },
        "id": "qFoy4emiSeI9",
        "outputId": "54cc60a1-b45c-4a81-c587-b937b0d6d0ab"
      },
      "source": [
        "input_shape = X.shape \n",
        "output_shape = y.shape\n",
        "input_shape, output_shape"
      ],
      "execution_count": 4,
      "outputs": [
        {
          "output_type": "execute_result",
          "data": {
            "text/plain": [
              "((8,), (8,))"
            ]
          },
          "metadata": {
            "tags": []
          },
          "execution_count": 4
        }
      ]
    },
    {
      "cell_type": "code",
      "metadata": {
        "colab": {
          "base_uri": "https://localhost:8080/"
        },
        "id": "NAl3pxr5TBOW",
        "outputId": "8e014409-81f4-41ee-d783-a515e0a8246b"
      },
      "source": [
        "X[0].ndim"
      ],
      "execution_count": 5,
      "outputs": [
        {
          "output_type": "execute_result",
          "data": {
            "text/plain": [
              "0"
            ]
          },
          "metadata": {
            "tags": []
          },
          "execution_count": 5
        }
      ]
    },
    {
      "cell_type": "code",
      "metadata": {
        "colab": {
          "base_uri": "https://localhost:8080/"
        },
        "id": "uu1lcdmBTf5W",
        "outputId": "7589619b-f3da-4d35-c929-fe2ecce3392e"
      },
      "source": [
        "X[0], y[0]"
      ],
      "execution_count": 6,
      "outputs": [
        {
          "output_type": "execute_result",
          "data": {
            "text/plain": [
              "(-7.0, 3.0)"
            ]
          },
          "metadata": {
            "tags": []
          },
          "execution_count": 6
        }
      ]
    },
    {
      "cell_type": "code",
      "metadata": {
        "id": "uADPupOWTkLh",
        "colab": {
          "base_uri": "https://localhost:8080/"
        },
        "outputId": "d1273f6c-dc0b-4542-b20c-82ecac9d677c"
      },
      "source": [
        "# Turn our NumPy arrays into tensors\n",
        "X = tf.constant(X)\n",
        "y = tf.constant(y)\n",
        "X, y"
      ],
      "execution_count": 7,
      "outputs": [
        {
          "output_type": "execute_result",
          "data": {
            "text/plain": [
              "(<tf.Tensor: shape=(8,), dtype=float64, numpy=array([-7., -4., -1.,  2.,  5.,  8., 11., 14.])>,\n",
              " <tf.Tensor: shape=(8,), dtype=float64, numpy=array([ 3.,  6.,  9., 12., 15., 18., 21., 24.])>)"
            ]
          },
          "metadata": {
            "tags": []
          },
          "execution_count": 7
        }
      ]
    },
    {
      "cell_type": "code",
      "metadata": {
        "colab": {
          "base_uri": "https://localhost:8080/"
        },
        "id": "MSeWI4WRujOh",
        "outputId": "2cc590cb-198e-4823-a1dd-268bc82a3ecb"
      },
      "source": [
        "input_shape = X[0].shape \n",
        "output_shape = y[0].shape \n",
        "input_shape, output_shape"
      ],
      "execution_count": 8,
      "outputs": [
        {
          "output_type": "execute_result",
          "data": {
            "text/plain": [
              "(TensorShape([]), TensorShape([]))"
            ]
          },
          "metadata": {
            "tags": []
          },
          "execution_count": 8
        }
      ]
    },
    {
      "cell_type": "code",
      "metadata": {
        "colab": {
          "base_uri": "https://localhost:8080/",
          "height": 286
        },
        "id": "0AQNigGsu0IM",
        "outputId": "efc26830-b0c7-4a2d-a2cf-eca742e83413"
      },
      "source": [
        "plt.scatter(X, y)"
      ],
      "execution_count": 9,
      "outputs": [
        {
          "output_type": "execute_result",
          "data": {
            "text/plain": [
              "<matplotlib.collections.PathCollection at 0x7f94e7a1c110>"
            ]
          },
          "metadata": {
            "tags": []
          },
          "execution_count": 9
        },
        {
          "output_type": "display_data",
          "data": {
            "image/png": "[encoded data removed]",
            "text/plain": [
              "<Figure size 432x288 with 1 Axes>"
            ]
          },
          "metadata": {
            "tags": [],
            "needs_background": "light"
          }
        }
      ]
    },
    {
      "cell_type": "markdown",
      "metadata": {
        "id": "MOpLyHXuu6HL"
      },
      "source": [
        "## Steps in modelling with TensorFlow\n",
        "\n",
        "1. **Creating a model** - define the input and output layers, as well as the hidden layers of a deep learning model.\n",
        "2. **Compiling a model** - define the loss function (in other words, the function which tells our model how wrong it is) and the optimizer (tells our model how to improve the patterns its learning) and evaluation metrics (what we can use to interpret the performance of our model).\n",
        "3. **Fitting a model** - letting the model try to find patterns between X & y (features and labels)."
      ]
    },
    {
      "cell_type": "code",
      "metadata": {
        "colab": {
          "base_uri": "https://localhost:8080/"
        },
        "id": "eKmd0S92vKMd",
        "outputId": "7548b383-6912-4344-bb5f-e508d986f5c4"
      },
      "source": [
        "# Set random seed\n",
        "tf.random.set_seed(42)\n",
        "\n",
        "# 1. Create a model using the Sequential API \n",
        "model = tf.keras.Sequential([\n",
        "                             tf.keras.layers.Dense(1)\n",
        "])\n",
        "\n",
        "# 2. Compile the model\n",
        "model.compile(loss=tf.keras.losses.mae, # mae is short for mean absolute error \n",
        "              optimizer = tf.keras.optimizers.SGD(), # sgd is short for stochastic gradient descent \n",
        "              metrics=[\"mae\"]\n",
        "              ) \n",
        "\n",
        "\n",
        "# 3. Fit the model\n",
        "model.fit(X, y, epochs=5)\n",
        "\n",
        "\n"
      ],
      "execution_count": 18,
      "outputs": [
        {
          "output_type": "stream",
          "text": [
            "Epoch 1/5\n",
            "1/1 [==============================] - 0s 317ms/step - loss: 11.5048 - mae: 11.5048\n",
            "Epoch 2/5\n",
            "1/1 [==============================] - 0s 8ms/step - loss: 11.3723 - mae: 11.3723\n",
            "Epoch 3/5\n",
            "1/1 [==============================] - 0s 6ms/step - loss: 11.2398 - mae: 11.2398\n",
            "Epoch 4/5\n",
            "1/1 [==============================] - 0s 6ms/step - loss: 11.1073 - mae: 11.1073\n",
            "Epoch 5/5\n",
            "1/1 [==============================] - 0s 15ms/step - loss: 10.9748 - mae: 10.9748\n"
          ],
          "name": "stdout"
        },
        {
          "output_type": "execute_result",
          "data": {
            "text/plain": [
              "<tensorflow.python.keras.callbacks.History at 0x7f94dc2f3b90>"
            ]
          },
          "metadata": {
            "tags": []
          },
          "execution_count": 18
        }
      ]
    },
    {
      "cell_type": "code",
      "metadata": {
        "colab": {
          "base_uri": "https://localhost:8080/"
        },
        "id": "xUIq0l2r2EuV",
        "outputId": "de106f08-5b22-493a-e7cb-c30580bd1f20"
      },
      "source": [
        "# Check out X and y \n",
        "X, y "
      ],
      "execution_count": 19,
      "outputs": [
        {
          "output_type": "execute_result",
          "data": {
            "text/plain": [
              "(<tf.Tensor: shape=(8,), dtype=float64, numpy=array([-7., -4., -1.,  2.,  5.,  8., 11., 14.])>,\n",
              " <tf.Tensor: shape=(8,), dtype=float64, numpy=array([ 3.,  6.,  9., 12., 15., 18., 21., 24.])>)"
            ]
          },
          "metadata": {
            "tags": []
          },
          "execution_count": 19
        }
      ]
    },
    {
      "cell_type": "code",
      "metadata": {
        "colab": {
          "base_uri": "https://localhost:8080/"
        },
        "id": "4hR-49yj3GzK",
        "outputId": "1fe669ae-38a7-4e0e-91c6-8dcc5cc22885"
      },
      "source": [
        "# Try and make a prediction  using our model\n",
        "y_pred = model.predict([17.0])\n",
        "y_pred"
      ],
      "execution_count": 20,
      "outputs": [
        {
          "output_type": "execute_result",
          "data": {
            "text/plain": [
              "array([[12.716021]], dtype=float32)"
            ]
          },
          "metadata": {
            "tags": []
          },
          "execution_count": 20
        }
      ]
    },
    {
      "cell_type": "code",
      "metadata": {
        "colab": {
          "base_uri": "https://localhost:8080/"
        },
        "id": "O4VDaEuq3OI8",
        "outputId": "9946d30c-067c-40e0-9056-1f88e71d062e"
      },
      "source": [
        "y_pred + 11\n"
      ],
      "execution_count": 13,
      "outputs": [
        {
          "output_type": "execute_result",
          "data": {
            "text/plain": [
              "array([[23.71602]], dtype=float32)"
            ]
          },
          "metadata": {
            "tags": []
          },
          "execution_count": 13
        }
      ]
    },
    {
      "cell_type": "markdown",
      "metadata": {
        "id": "7i8ECPEv3fvn"
      },
      "source": [
        "## Improving our model\n",
        "\n",
        "we can improve our model, by altering the steps we took to create a model.\n",
        "\n",
        "1. **Creating a model** - here we might add more layers, increase the number of hidden units (all called neurons) within each of the hidden layers, change the activation functioon of each layer. \n",
        "2. ***Compiling a model** - here we might change the optimization function or perhaps the **learning rate** of the optimization function.\n",
        "3. **Fitting a model** - here we might fit a model for more **epochs** (leave it training for longer) or on more data (give the model more examples to learn from). "
      ]
    },
    {
      "cell_type": "code",
      "metadata": {
        "colab": {
          "base_uri": "https://localhost:8080/"
        },
        "id": "63uJssyI6Ez0",
        "outputId": "139e2ab4-860e-4c5e-f99a-3fc928bfb098"
      },
      "source": [
        "# Let's rebuild our model\n",
        "\n",
        "# 1. Create the model\n",
        "model = tf.keras.Sequential([\n",
        "                    tf.keras.layers.Dense(1)         \n",
        "])\n",
        "\n",
        "# 2. Compile the model\n",
        "model.compile(loss=tf.keras.losses.mae,\n",
        "              optimizer=tf.keras.optimizers.SGD(),\n",
        "              metrics=[\"mae\"])\n",
        "\n",
        "# 3. Fit the model (this time we'll train for longer)\n",
        "model.fit(X, y, epochs=100)"
      ],
      "execution_count": 24,
      "outputs": [
        {
          "output_type": "stream",
          "text": [
            "Epoch 1/100\n",
            "1/1 [==============================] - 0s 383ms/step - loss: 14.4065 - mae: 14.4065\n",
            "Epoch 2/100\n",
            "1/1 [==============================] - 0s 12ms/step - loss: 14.2006 - mae: 14.2006\n",
            "Epoch 3/100\n",
            "1/1 [==============================] - 0s 7ms/step - loss: 14.0202 - mae: 14.0202\n",
            "Epoch 4/100\n",
            "1/1 [==============================] - 0s 6ms/step - loss: 13.8583 - mae: 13.8583\n",
            "Epoch 5/100\n",
            "1/1 [==============================] - 0s 7ms/step - loss: 13.7095 - mae: 13.7095\n",
            "Epoch 6/100\n",
            "1/1 [==============================] - 0s 6ms/step - loss: 13.5693 - mae: 13.5693\n",
            "Epoch 7/100\n",
            "1/1 [==============================] - 0s 7ms/step - loss: 13.4340 - mae: 13.4340\n",
            "Epoch 8/100\n",
            "1/1 [==============================] - 0s 7ms/step - loss: 13.3001 - mae: 13.3001\n",
            "Epoch 9/100\n",
            "1/1 [==============================] - 0s 6ms/step - loss: 13.1645 - mae: 13.1645\n",
            "Epoch 10/100\n",
            "1/1 [==============================] - 0s 9ms/step - loss: 13.0238 - mae: 13.0238\n",
            "Epoch 11/100\n",
            "1/1 [==============================] - 0s 10ms/step - loss: 12.8745 - mae: 12.8745\n",
            "Epoch 12/100\n",
            "1/1 [==============================] - 0s 12ms/step - loss: 12.7127 - mae: 12.7127\n",
            "Epoch 13/100\n",
            "1/1 [==============================] - 0s 9ms/step - loss: 12.5334 - mae: 12.5334\n",
            "Epoch 14/100\n",
            "1/1 [==============================] - 0s 10ms/step - loss: 12.3308 - mae: 12.3308\n",
            "Epoch 15/100\n",
            "1/1 [==============================] - 0s 11ms/step - loss: 12.0973 - mae: 12.0973\n",
            "Epoch 16/100\n",
            "1/1 [==============================] - 0s 7ms/step - loss: 11.8228 - mae: 11.8228\n",
            "Epoch 17/100\n",
            "1/1 [==============================] - 0s 11ms/step - loss: 11.4938 - mae: 11.4938\n",
            "Epoch 18/100\n",
            "1/1 [==============================] - 0s 10ms/step - loss: 11.0910 - mae: 11.0910\n",
            "Epoch 19/100\n",
            "1/1 [==============================] - 0s 9ms/step - loss: 10.5868 - mae: 10.5868\n",
            "Epoch 20/100\n",
            "1/1 [==============================] - 0s 7ms/step - loss: 9.9401 - mae: 9.9401\n",
            "Epoch 21/100\n",
            "1/1 [==============================] - 0s 11ms/step - loss: 9.0870 - mae: 9.0870\n",
            "Epoch 22/100\n",
            "1/1 [==============================] - 0s 5ms/step - loss: 7.9240 - mae: 7.9240\n",
            "Epoch 23/100\n",
            "1/1 [==============================] - 0s 9ms/step - loss: 7.1824 - mae: 7.1824\n",
            "Epoch 24/100\n",
            "1/1 [==============================] - 0s 9ms/step - loss: 7.6733 - mae: 7.6733\n",
            "Epoch 25/100\n",
            "1/1 [==============================] - 0s 7ms/step - loss: 7.2807 - mae: 7.2807\n",
            "Epoch 26/100\n",
            "1/1 [==============================] - 0s 9ms/step - loss: 7.3914 - mae: 7.3914\n",
            "Epoch 27/100\n",
            "1/1 [==============================] - 0s 9ms/step - loss: 7.4015 - mae: 7.4015\n",
            "Epoch 28/100\n",
            "1/1 [==============================] - 0s 9ms/step - loss: 7.0748 - mae: 7.0748\n",
            "Epoch 29/100\n",
            "1/1 [==============================] - 0s 10ms/step - loss: 7.5465 - mae: 7.5465\n",
            "Epoch 30/100\n",
            "1/1 [==============================] - 0s 13ms/step - loss: 6.7752 - mae: 6.7752\n",
            "Epoch 31/100\n",
            "1/1 [==============================] - 0s 9ms/step - loss: 6.7221 - mae: 6.7221\n",
            "Epoch 32/100\n",
            "1/1 [==============================] - 0s 17ms/step - loss: 6.6666 - mae: 6.6666\n",
            "Epoch 33/100\n",
            "1/1 [==============================] - 0s 6ms/step - loss: 6.6085 - mae: 6.6085\n",
            "Epoch 34/100\n",
            "1/1 [==============================] - 0s 7ms/step - loss: 6.5475 - mae: 6.5475\n",
            "Epoch 35/100\n",
            "1/1 [==============================] - 0s 15ms/step - loss: 6.5637 - mae: 6.5637\n",
            "Epoch 36/100\n",
            "1/1 [==============================] - 0s 10ms/step - loss: 7.1035 - mae: 7.1035\n",
            "Epoch 37/100\n",
            "1/1 [==============================] - 0s 9ms/step - loss: 6.7782 - mae: 6.7782\n",
            "Epoch 38/100\n",
            "1/1 [==============================] - 0s 6ms/step - loss: 6.6435 - mae: 6.6435\n",
            "Epoch 39/100\n",
            "1/1 [==============================] - 0s 8ms/step - loss: 7.0675 - mae: 7.0675\n",
            "Epoch 40/100\n",
            "1/1 [==============================] - 0s 8ms/step - loss: 7.3130 - mae: 7.3130\n",
            "Epoch 41/100\n",
            "1/1 [==============================] - 0s 7ms/step - loss: 6.2212 - mae: 6.2212\n",
            "Epoch 42/100\n",
            "1/1 [==============================] - 0s 6ms/step - loss: 6.8216 - mae: 6.8216\n",
            "Epoch 43/100\n",
            "1/1 [==============================] - 0s 11ms/step - loss: 6.4756 - mae: 6.4756\n",
            "Epoch 44/100\n",
            "1/1 [==============================] - 0s 11ms/step - loss: 6.2686 - mae: 6.2686\n",
            "Epoch 45/100\n",
            "1/1 [==============================] - 0s 9ms/step - loss: 6.9220 - mae: 6.9220\n",
            "Epoch 46/100\n",
            "1/1 [==============================] - 0s 11ms/step - loss: 6.8760 - mae: 6.8760\n",
            "Epoch 47/100\n",
            "1/1 [==============================] - 0s 11ms/step - loss: 6.0281 - mae: 6.0281\n",
            "Epoch 48/100\n",
            "1/1 [==============================] - 0s 7ms/step - loss: 6.2789 - mae: 6.2789\n",
            "Epoch 49/100\n",
            "1/1 [==============================] - 0s 8ms/step - loss: 6.3445 - mae: 6.3445\n",
            "Epoch 50/100\n",
            "1/1 [==============================] - 0s 12ms/step - loss: 6.7849 - mae: 6.7849\n",
            "Epoch 51/100\n",
            "1/1 [==============================] - 0s 10ms/step - loss: 5.6935 - mae: 5.6935\n",
            "Epoch 52/100\n",
            "1/1 [==============================] - 0s 7ms/step - loss: 6.1319 - mae: 6.1319\n",
            "Epoch 53/100\n",
            "1/1 [==============================] - 0s 10ms/step - loss: 6.0026 - mae: 6.0026\n",
            "Epoch 54/100\n",
            "1/1 [==============================] - 0s 9ms/step - loss: 5.4701 - mae: 5.4701\n",
            "Epoch 55/100\n",
            "1/1 [==============================] - 0s 8ms/step - loss: 5.3492 - mae: 5.3492\n",
            "Epoch 56/100\n",
            "1/1 [==============================] - 0s 10ms/step - loss: 5.3545 - mae: 5.3545\n",
            "Epoch 57/100\n",
            "1/1 [==============================] - 0s 8ms/step - loss: 5.7152 - mae: 5.7152\n",
            "Epoch 58/100\n",
            "1/1 [==============================] - 0s 10ms/step - loss: 5.7954 - mae: 5.7954\n",
            "Epoch 59/100\n",
            "1/1 [==============================] - 0s 7ms/step - loss: 6.0765 - mae: 6.0765\n",
            "Epoch 60/100\n",
            "1/1 [==============================] - 0s 11ms/step - loss: 5.1470 - mae: 5.1470\n",
            "Epoch 61/100\n",
            "1/1 [==============================] - 0s 9ms/step - loss: 5.2200 - mae: 5.2200\n",
            "Epoch 62/100\n",
            "1/1 [==============================] - 0s 6ms/step - loss: 5.8072 - mae: 5.8072\n",
            "Epoch 63/100\n",
            "1/1 [==============================] - 0s 14ms/step - loss: 5.5406 - mae: 5.5406\n",
            "Epoch 64/100\n",
            "1/1 [==============================] - 0s 9ms/step - loss: 4.9541 - mae: 4.9541\n",
            "Epoch 65/100\n",
            "1/1 [==============================] - 0s 11ms/step - loss: 4.5550 - mae: 4.5550\n",
            "Epoch 66/100\n",
            "1/1 [==============================] - 0s 9ms/step - loss: 4.3605 - mae: 4.3605\n",
            "Epoch 67/100\n",
            "1/1 [==============================] - 0s 10ms/step - loss: 4.4353 - mae: 4.4353\n",
            "Epoch 68/100\n",
            "1/1 [==============================] - 0s 8ms/step - loss: 4.4775 - mae: 4.4775\n",
            "Epoch 69/100\n",
            "1/1 [==============================] - 0s 11ms/step - loss: 5.2669 - mae: 5.2669\n",
            "Epoch 70/100\n",
            "1/1 [==============================] - 0s 6ms/step - loss: 4.6497 - mae: 4.6497\n",
            "Epoch 71/100\n",
            "1/1 [==============================] - 0s 28ms/step - loss: 4.4964 - mae: 4.4964\n",
            "Epoch 72/100\n",
            "1/1 [==============================] - 0s 5ms/step - loss: 4.7162 - mae: 4.7162\n",
            "Epoch 73/100\n",
            "1/1 [==============================] - 0s 9ms/step - loss: 3.8587 - mae: 3.8587\n",
            "Epoch 74/100\n",
            "1/1 [==============================] - 0s 6ms/step - loss: 4.6936 - mae: 4.6936\n",
            "Epoch 75/100\n",
            "1/1 [==============================] - 0s 10ms/step - loss: 3.3552 - mae: 3.3552\n",
            "Epoch 76/100\n",
            "1/1 [==============================] - 0s 6ms/step - loss: 3.3434 - mae: 3.3434\n",
            "Epoch 77/100\n",
            "1/1 [==============================] - 0s 12ms/step - loss: 4.6066 - mae: 4.6066\n",
            "Epoch 78/100\n",
            "1/1 [==============================] - 0s 8ms/step - loss: 4.3036 - mae: 4.3036\n",
            "Epoch 79/100\n",
            "1/1 [==============================] - 0s 10ms/step - loss: 2.5521 - mae: 2.5521\n",
            "Epoch 80/100\n",
            "1/1 [==============================] - 0s 10ms/step - loss: 2.7790 - mae: 2.7790\n",
            "Epoch 81/100\n",
            "1/1 [==============================] - 0s 18ms/step - loss: 3.9228 - mae: 3.9228\n",
            "Epoch 82/100\n",
            "1/1 [==============================] - 0s 13ms/step - loss: 3.6466 - mae: 3.6466\n",
            "Epoch 83/100\n",
            "1/1 [==============================] - 0s 8ms/step - loss: 1.6373 - mae: 1.6373\n",
            "Epoch 84/100\n",
            "1/1 [==============================] - 0s 9ms/step - loss: 3.2465 - mae: 3.2465\n",
            "Epoch 85/100\n",
            "1/1 [==============================] - 0s 7ms/step - loss: 1.1064 - mae: 1.1064\n",
            "Epoch 86/100\n",
            "1/1 [==============================] - 0s 12ms/step - loss: 2.9897 - mae: 2.9897\n",
            "Epoch 87/100\n",
            "1/1 [==============================] - 0s 11ms/step - loss: 1.6143 - mae: 1.6143\n",
            "Epoch 88/100\n",
            "1/1 [==============================] - 0s 5ms/step - loss: 4.4022 - mae: 4.4022\n",
            "Epoch 89/100\n",
            "1/1 [==============================] - 0s 9ms/step - loss: 0.8692 - mae: 0.8692\n",
            "Epoch 90/100\n",
            "1/1 [==============================] - 0s 8ms/step - loss: 4.1898 - mae: 4.1898\n",
            "Epoch 91/100\n",
            "1/1 [==============================] - 0s 5ms/step - loss: 3.5196 - mae: 3.5196\n",
            "Epoch 92/100\n",
            "1/1 [==============================] - 0s 6ms/step - loss: 0.8278 - mae: 0.8278\n",
            "Epoch 93/100\n",
            "1/1 [==============================] - 0s 9ms/step - loss: 4.4878 - mae: 4.4878\n",
            "Epoch 94/100\n",
            "1/1 [==============================] - 0s 8ms/step - loss: 1.0078 - mae: 1.0078\n",
            "Epoch 95/100\n",
            "1/1 [==============================] - 0s 5ms/step - loss: 5.0069 - mae: 5.0069\n",
            "Epoch 96/100\n",
            "1/1 [==============================] - 0s 8ms/step - loss: 2.8046 - mae: 2.8046\n",
            "Epoch 97/100\n",
            "1/1 [==============================] - 0s 11ms/step - loss: 1.5113 - mae: 1.5113\n",
            "Epoch 98/100\n",
            "1/1 [==============================] - 0s 9ms/step - loss: 3.8324 - mae: 3.8324\n",
            "Epoch 99/100\n",
            "1/1 [==============================] - 0s 26ms/step - loss: 0.5454 - mae: 0.5454\n",
            "Epoch 100/100\n",
            "1/1 [==============================] - 0s 13ms/step - loss: 4.1680 - mae: 4.1680\n"
          ],
          "name": "stdout"
        },
        {
          "output_type": "execute_result",
          "data": {
            "text/plain": [
              "<tensorflow.python.keras.callbacks.History at 0x7f94dc32eb90>"
            ]
          },
          "metadata": {
            "tags": []
          },
          "execution_count": 24
        }
      ]
    },
    {
      "cell_type": "code",
      "metadata": {
        "colab": {
          "base_uri": "https://localhost:8080/"
        },
        "id": "nb31a9V9kTjk",
        "outputId": "55980401-a6d3-4391-a9ac-a4e9e0128c26"
      },
      "source": [
        "# Remind ourselves of the data \n",
        "X, y "
      ],
      "execution_count": 25,
      "outputs": [
        {
          "output_type": "execute_result",
          "data": {
            "text/plain": [
              "(<tf.Tensor: shape=(8,), dtype=float64, numpy=array([-7., -4., -1.,  2.,  5.,  8., 11., 14.])>,\n",
              " <tf.Tensor: shape=(8,), dtype=float64, numpy=array([ 3.,  6.,  9., 12., 15., 18., 21., 24.])>)"
            ]
          },
          "metadata": {
            "tags": []
          },
          "execution_count": 25
        }
      ]
    },
    {
      "cell_type": "code",
      "metadata": {
        "colab": {
          "base_uri": "https://localhost:8080/"
        },
        "id": "LFUMTO_-kzXH",
        "outputId": "13327ebe-ae85-4b90-ed58-bf4dac3b40dd"
      },
      "source": [
        "# Let's see if our model's prediction has improved\n",
        "model.predict([17.0])"
      ],
      "execution_count": 26,
      "outputs": [
        {
          "output_type": "stream",
          "text": [
            "WARNING:tensorflow:5 out of the last 5 calls to <function Model.make_predict_function.<locals>.predict_function at 0x7f94dd641dd0> triggered tf.function retracing. Tracing is expensive and the excessive number of tracings could be due to (1) creating @tf.function repeatedly in a loop, (2) passing tensors with different shapes, (3) passing Python objects instead of tensors. For (1), please define your @tf.function outside of the loop. For (2), @tf.function has experimental_relax_shapes=True option that relaxes argument shapes that can avoid unnecessary retracing. For (3), please refer to https://www.tensorflow.org/guide/function#controlling_retracing and https://www.tensorflow.org/api_docs/python/tf/function for  more details.\n"
          ],
          "name": "stdout"
        },
        {
          "output_type": "execute_result",
          "data": {
            "text/plain": [
              "array([[19.050516]], dtype=float32)"
            ]
          },
          "metadata": {
            "tags": []
          },
          "execution_count": 26
        }
      ]
    },
    {
      "cell_type": "code",
      "metadata": {
        "colab": {
          "base_uri": "https://localhost:8080/"
        },
        "id": "AHTL-dD-k7SI",
        "outputId": "c76b1838-5569-4f99-94d3-7211a6eb5c61"
      },
      "source": [
        " # Let's see if we can make another change to improve our model\n",
        "\n",
        " # 1. Create the model (this time with an extra hidden layer with 100 hidden nunits)\n",
        " model = tf.keras.Sequential([\n",
        "    tf.keras.layers.Dense(50, activation=None ),\n",
        "    tf.keras.layers.Dense(1)\n",
        " ])\n",
        "\n",
        " # 2. Compile the model \n",
        " model.compile(loss=\"mae\",\n",
        "               optimizer= tf.keras.optimizers.Adam(lr=0.01),\n",
        "               metrics=[\"mae\"])\n",
        " \n",
        " # 3. Fit the model\n",
        " model.fit(X, y, epochs=100)"
      ],
      "execution_count": 44,
      "outputs": [
        {
          "output_type": "stream",
          "text": [
            "/usr/local/lib/python3.7/dist-packages/tensorflow/python/keras/optimizer_v2/optimizer_v2.py:375: UserWarning: The `lr` argument is deprecated, use `learning_rate` instead.\n",
            "  \"The `lr` argument is deprecated, use `learning_rate` instead.\")\n"
          ],
          "name": "stderr"
        },
        {
          "output_type": "stream",
          "text": [
            "Epoch 1/100\n",
            "1/1 [==============================] - 0s 341ms/step - loss: 12.5935 - mae: 12.5935\n",
            "Epoch 2/100\n",
            "1/1 [==============================] - 0s 5ms/step - loss: 11.8304 - mae: 11.8304\n",
            "Epoch 3/100\n",
            "1/1 [==============================] - 0s 6ms/step - loss: 11.0619 - mae: 11.0619\n",
            "Epoch 4/100\n",
            "1/1 [==============================] - 0s 7ms/step - loss: 10.2860 - mae: 10.2860\n",
            "Epoch 5/100\n",
            "1/1 [==============================] - 0s 7ms/step - loss: 9.4991 - mae: 9.4991\n",
            "Epoch 6/100\n",
            "1/1 [==============================] - 0s 5ms/step - loss: 8.6976 - mae: 8.6976\n",
            "Epoch 7/100\n",
            "1/1 [==============================] - 0s 8ms/step - loss: 7.8786 - mae: 7.8786\n",
            "Epoch 8/100\n",
            "1/1 [==============================] - 0s 10ms/step - loss: 7.0401 - mae: 7.0401\n",
            "Epoch 9/100\n",
            "1/1 [==============================] - 0s 6ms/step - loss: 6.7836 - mae: 6.7836\n",
            "Epoch 10/100\n",
            "1/1 [==============================] - 0s 8ms/step - loss: 7.2244 - mae: 7.2244\n",
            "Epoch 11/100\n",
            "1/1 [==============================] - 0s 8ms/step - loss: 7.6081 - mae: 7.6081\n",
            "Epoch 12/100\n",
            "1/1 [==============================] - 0s 10ms/step - loss: 7.8501 - mae: 7.8501\n",
            "Epoch 13/100\n",
            "1/1 [==============================] - 0s 4ms/step - loss: 7.8375 - mae: 7.8375\n",
            "Epoch 14/100\n",
            "1/1 [==============================] - 0s 5ms/step - loss: 7.6374 - mae: 7.6374\n",
            "Epoch 15/100\n",
            "1/1 [==============================] - 0s 7ms/step - loss: 7.2974 - mae: 7.2974\n",
            "Epoch 16/100\n",
            "1/1 [==============================] - 0s 10ms/step - loss: 6.9263 - mae: 6.9263\n",
            "Epoch 17/100\n",
            "1/1 [==============================] - 0s 8ms/step - loss: 6.6265 - mae: 6.6265\n",
            "Epoch 18/100\n",
            "1/1 [==============================] - 0s 10ms/step - loss: 6.3129 - mae: 6.3129\n",
            "Epoch 19/100\n",
            "1/1 [==============================] - 0s 5ms/step - loss: 6.1011 - mae: 6.1011\n",
            "Epoch 20/100\n",
            "1/1 [==============================] - 0s 7ms/step - loss: 6.0495 - mae: 6.0495\n",
            "Epoch 21/100\n",
            "1/1 [==============================] - 0s 8ms/step - loss: 6.1645 - mae: 6.1645\n",
            "Epoch 22/100\n",
            "1/1 [==============================] - 0s 10ms/step - loss: 6.2542 - mae: 6.2542\n",
            "Epoch 23/100\n",
            "1/1 [==============================] - 0s 7ms/step - loss: 6.2361 - mae: 6.2361\n",
            "Epoch 24/100\n",
            "1/1 [==============================] - 0s 7ms/step - loss: 6.1233 - mae: 6.1233\n",
            "Epoch 25/100\n",
            "1/1 [==============================] - 0s 8ms/step - loss: 5.9259 - mae: 5.9259\n",
            "Epoch 26/100\n",
            "1/1 [==============================] - 0s 7ms/step - loss: 5.6512 - mae: 5.6512\n",
            "Epoch 27/100\n",
            "1/1 [==============================] - 0s 11ms/step - loss: 5.4517 - mae: 5.4517\n",
            "Epoch 28/100\n",
            "1/1 [==============================] - 0s 5ms/step - loss: 5.3359 - mae: 5.3359\n",
            "Epoch 29/100\n",
            "1/1 [==============================] - 0s 7ms/step - loss: 5.3032 - mae: 5.3032\n",
            "Epoch 30/100\n",
            "1/1 [==============================] - 0s 6ms/step - loss: 5.3081 - mae: 5.3081\n",
            "Epoch 31/100\n",
            "1/1 [==============================] - 0s 7ms/step - loss: 5.2640 - mae: 5.2640\n",
            "Epoch 32/100\n",
            "1/1 [==============================] - 0s 11ms/step - loss: 5.1745 - mae: 5.1745\n",
            "Epoch 33/100\n",
            "1/1 [==============================] - 0s 10ms/step - loss: 5.0434 - mae: 5.0434\n",
            "Epoch 34/100\n",
            "1/1 [==============================] - 0s 8ms/step - loss: 4.8740 - mae: 4.8740\n",
            "Epoch 35/100\n",
            "1/1 [==============================] - 0s 8ms/step - loss: 4.6695 - mae: 4.6695\n",
            "Epoch 36/100\n",
            "1/1 [==============================] - 0s 7ms/step - loss: 4.4825 - mae: 4.4825\n",
            "Epoch 37/100\n",
            "1/1 [==============================] - 0s 10ms/step - loss: 4.3778 - mae: 4.3778\n",
            "Epoch 38/100\n",
            "1/1 [==============================] - 0s 10ms/step - loss: 4.2653 - mae: 4.2653\n",
            "Epoch 39/100\n",
            "1/1 [==============================] - 0s 7ms/step - loss: 4.2176 - mae: 4.2176\n",
            "Epoch 40/100\n",
            "1/1 [==============================] - 0s 11ms/step - loss: 4.0871 - mae: 4.0871\n",
            "Epoch 41/100\n",
            "1/1 [==============================] - 0s 6ms/step - loss: 3.8529 - mae: 3.8529\n",
            "Epoch 42/100\n",
            "1/1 [==============================] - 0s 12ms/step - loss: 3.6917 - mae: 3.6917\n",
            "Epoch 43/100\n",
            "1/1 [==============================] - 0s 7ms/step - loss: 3.5234 - mae: 3.5234\n",
            "Epoch 44/100\n",
            "1/1 [==============================] - 0s 9ms/step - loss: 3.3564 - mae: 3.3564\n",
            "Epoch 45/100\n",
            "1/1 [==============================] - 0s 8ms/step - loss: 3.2172 - mae: 3.2172\n",
            "Epoch 46/100\n",
            "1/1 [==============================] - 0s 8ms/step - loss: 3.0228 - mae: 3.0228\n",
            "Epoch 47/100\n",
            "1/1 [==============================] - 0s 8ms/step - loss: 2.8351 - mae: 2.8351\n",
            "Epoch 48/100\n",
            "1/1 [==============================] - 0s 10ms/step - loss: 2.6555 - mae: 2.6555\n",
            "Epoch 49/100\n",
            "1/1 [==============================] - 0s 6ms/step - loss: 2.4653 - mae: 2.4653\n",
            "Epoch 50/100\n",
            "1/1 [==============================] - 0s 7ms/step - loss: 2.3130 - mae: 2.3130\n",
            "Epoch 51/100\n",
            "1/1 [==============================] - 0s 8ms/step - loss: 2.0414 - mae: 2.0414\n",
            "Epoch 52/100\n",
            "1/1 [==============================] - 0s 9ms/step - loss: 1.8084 - mae: 1.8084\n",
            "Epoch 53/100\n",
            "1/1 [==============================] - 0s 8ms/step - loss: 1.6147 - mae: 1.6147\n",
            "Epoch 54/100\n",
            "1/1 [==============================] - 0s 10ms/step - loss: 1.3854 - mae: 1.3854\n",
            "Epoch 55/100\n",
            "1/1 [==============================] - 0s 6ms/step - loss: 1.0848 - mae: 1.0848\n",
            "Epoch 56/100\n",
            "1/1 [==============================] - 0s 8ms/step - loss: 0.9293 - mae: 0.9293\n",
            "Epoch 57/100\n",
            "1/1 [==============================] - 0s 9ms/step - loss: 0.6782 - mae: 0.6782\n",
            "Epoch 58/100\n",
            "1/1 [==============================] - 0s 8ms/step - loss: 0.2990 - mae: 0.2990\n",
            "Epoch 59/100\n",
            "1/1 [==============================] - 0s 11ms/step - loss: 0.1322 - mae: 0.1322\n",
            "Epoch 60/100\n",
            "1/1 [==============================] - 0s 10ms/step - loss: 0.3902 - mae: 0.3902\n",
            "Epoch 61/100\n",
            "1/1 [==============================] - 0s 6ms/step - loss: 0.5843 - mae: 0.5843\n",
            "Epoch 62/100\n",
            "1/1 [==============================] - 0s 16ms/step - loss: 0.6466 - mae: 0.6466\n",
            "Epoch 63/100\n",
            "1/1 [==============================] - 0s 9ms/step - loss: 0.8850 - mae: 0.8850\n",
            "Epoch 64/100\n",
            "1/1 [==============================] - 0s 8ms/step - loss: 0.8940 - mae: 0.8940\n",
            "Epoch 65/100\n",
            "1/1 [==============================] - 0s 9ms/step - loss: 0.8431 - mae: 0.8431\n",
            "Epoch 66/100\n",
            "1/1 [==============================] - 0s 6ms/step - loss: 0.8713 - mae: 0.8713\n",
            "Epoch 67/100\n",
            "1/1 [==============================] - 0s 8ms/step - loss: 0.7583 - mae: 0.7583\n",
            "Epoch 68/100\n",
            "1/1 [==============================] - 0s 10ms/step - loss: 0.7361 - mae: 0.7361\n",
            "Epoch 69/100\n",
            "1/1 [==============================] - 0s 6ms/step - loss: 0.6333 - mae: 0.6333\n",
            "Epoch 70/100\n",
            "1/1 [==============================] - 0s 6ms/step - loss: 0.4245 - mae: 0.4245\n",
            "Epoch 71/100\n",
            "1/1 [==============================] - 0s 11ms/step - loss: 0.3264 - mae: 0.3264\n",
            "Epoch 72/100\n",
            "1/1 [==============================] - 0s 9ms/step - loss: 0.1248 - mae: 0.1248\n",
            "Epoch 73/100\n",
            "1/1 [==============================] - 0s 11ms/step - loss: 0.0839 - mae: 0.0839\n",
            "Epoch 74/100\n",
            "1/1 [==============================] - 0s 12ms/step - loss: 0.2576 - mae: 0.2576\n",
            "Epoch 75/100\n",
            "1/1 [==============================] - 0s 6ms/step - loss: 0.2795 - mae: 0.2795\n",
            "Epoch 76/100\n",
            "1/1 [==============================] - 0s 14ms/step - loss: 0.4132 - mae: 0.4132\n",
            "Epoch 77/100\n",
            "1/1 [==============================] - 0s 8ms/step - loss: 0.4049 - mae: 0.4049\n",
            "Epoch 78/100\n",
            "1/1 [==============================] - 0s 9ms/step - loss: 0.3397 - mae: 0.3397\n",
            "Epoch 79/100\n",
            "1/1 [==============================] - 0s 7ms/step - loss: 0.3671 - mae: 0.3671\n",
            "Epoch 80/100\n",
            "1/1 [==============================] - 0s 9ms/step - loss: 0.2152 - mae: 0.2152\n",
            "Epoch 81/100\n",
            "1/1 [==============================] - 0s 9ms/step - loss: 0.2387 - mae: 0.2387\n",
            "Epoch 82/100\n",
            "1/1 [==============================] - 0s 5ms/step - loss: 0.2164 - mae: 0.2164\n",
            "Epoch 83/100\n",
            "1/1 [==============================] - 0s 9ms/step - loss: 0.1517 - mae: 0.1517\n",
            "Epoch 84/100\n",
            "1/1 [==============================] - 0s 6ms/step - loss: 0.2489 - mae: 0.2489\n",
            "Epoch 85/100\n",
            "1/1 [==============================] - 0s 9ms/step - loss: 0.1678 - mae: 0.1678\n",
            "Epoch 86/100\n",
            "1/1 [==============================] - 0s 10ms/step - loss: 0.3510 - mae: 0.3510\n",
            "Epoch 87/100\n",
            "1/1 [==============================] - 0s 4ms/step - loss: 0.3400 - mae: 0.3400\n",
            "Epoch 88/100\n",
            "1/1 [==============================] - 0s 7ms/step - loss: 0.0533 - mae: 0.0533\n",
            "Epoch 89/100\n",
            "1/1 [==============================] - 0s 9ms/step - loss: 0.1033 - mae: 0.1033\n",
            "Epoch 90/100\n",
            "1/1 [==============================] - 0s 6ms/step - loss: 0.1674 - mae: 0.1674\n",
            "Epoch 91/100\n",
            "1/1 [==============================] - 0s 6ms/step - loss: 0.1972 - mae: 0.1972\n",
            "Epoch 92/100\n",
            "1/1 [==============================] - 0s 17ms/step - loss: 0.0761 - mae: 0.0761\n",
            "Epoch 93/100\n",
            "1/1 [==============================] - 0s 7ms/step - loss: 0.2086 - mae: 0.2086\n",
            "Epoch 94/100\n",
            "1/1 [==============================] - 0s 14ms/step - loss: 0.0501 - mae: 0.0501\n",
            "Epoch 95/100\n",
            "1/1 [==============================] - 0s 14ms/step - loss: 0.4046 - mae: 0.4046\n",
            "Epoch 96/100\n",
            "1/1 [==============================] - 0s 8ms/step - loss: 0.4959 - mae: 0.4959\n",
            "Epoch 97/100\n",
            "1/1 [==============================] - 0s 10ms/step - loss: 0.2737 - mae: 0.2737\n",
            "Epoch 98/100\n",
            "1/1 [==============================] - 0s 11ms/step - loss: 0.2420 - mae: 0.2420\n",
            "Epoch 99/100\n",
            "1/1 [==============================] - 0s 17ms/step - loss: 0.3921 - mae: 0.3921\n",
            "Epoch 100/100\n",
            "1/1 [==============================] - 0s 11ms/step - loss: 0.2446 - mae: 0.2446\n"
          ],
          "name": "stdout"
        },
        {
          "output_type": "execute_result",
          "data": {
            "text/plain": [
              "<tensorflow.python.keras.callbacks.History at 0x7f94d4dbb850>"
            ]
          },
          "metadata": {
            "tags": []
          },
          "execution_count": 44
        }
      ]
    },
    {
      "cell_type": "code",
      "metadata": {
        "colab": {
          "base_uri": "https://localhost:8080/"
        },
        "id": "KRHXKKjYnok9",
        "outputId": "eff7a29b-2c1f-4e48-a6ac-4c717e3a7e6b"
      },
      "source": [
        "# Let's remind ourselves of the data\n",
        "X, y"
      ],
      "execution_count": 45,
      "outputs": [
        {
          "output_type": "execute_result",
          "data": {
            "text/plain": [
              "(<tf.Tensor: shape=(8,), dtype=float64, numpy=array([-7., -4., -1.,  2.,  5.,  8., 11., 14.])>,\n",
              " <tf.Tensor: shape=(8,), dtype=float64, numpy=array([ 3.,  6.,  9., 12., 15., 18., 21., 24.])>)"
            ]
          },
          "metadata": {
            "tags": []
          },
          "execution_count": 45
        }
      ]
    },
    {
      "cell_type": "code",
      "metadata": {
        "colab": {
          "base_uri": "https://localhost:8080/"
        },
        "id": "_X1aZQ5En3oI",
        "outputId": "db43ee54-ea14-41dc-c497-8688eb0313fa"
      },
      "source": [
        "# Let's try to make a prediction\n",
        "model.predict([17.0])"
      ],
      "execution_count": 46,
      "outputs": [
        {
          "output_type": "execute_result",
          "data": {
            "text/plain": [
              "array([[26.528288]], dtype=float32)"
            ]
          },
          "metadata": {
            "tags": []
          },
          "execution_count": 46
        }
      ]
    },
    {
      "cell_type": "code",
      "metadata": {
        "id": "TSv87Wzwn9lC"
      },
      "source": [
        ""
      ],
      "execution_count": null,
      "outputs": []
    }
  ]
}